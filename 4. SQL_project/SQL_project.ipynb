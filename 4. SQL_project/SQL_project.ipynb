{
 "cells": [
  {
   "cell_type": "markdown",
   "id": "9ea581a0",
   "metadata": {},
   "source": [
    "# Проект по SQL"
   ]
  },
  {
   "cell_type": "markdown",
   "id": "22717fa3",
   "metadata": {},
   "source": [
    "# Описание проекта"
   ]
  },
  {
   "cell_type": "markdown",
   "id": "fac920ab",
   "metadata": {},
   "source": [
    "Необходимо проанализировать базу данных крупного сервиса для чтения книг по подписке.\n",
    "В базе данных информация о книгах, издательствах, авторах, а также пользовательские обзоры книг. Эти данные помогут сформулировать ценностное предложение для нового продукта."
   ]
  },
  {
   "cell_type": "markdown",
   "id": "c0b2c2d3",
   "metadata": {},
   "source": [
    "# Описание данных"
   ]
  },
  {
   "cell_type": "markdown",
   "id": "063c534f",
   "metadata": {},
   "source": [
    "**Таблица `books`**\n",
    "\n",
    "Содержит данные о книгах:\n",
    "\n",
    "- `book_id` — идентификатор книги;\n",
    "- `author_id` — идентификатор автора;\n",
    "- `title` — название книги;\n",
    "- `num_pages` — количество страниц;\n",
    "- `publication_date` — дата публикации книги;\n",
    "- `publisher_id` — идентификатор издателя.\n",
    "\n",
    "**Таблица `authors`**\n",
    "\n",
    "Содержит данные об авторах:\n",
    "\n",
    "- `author_id` — идентификатор автора;\n",
    "- `author` — имя автора.\n",
    "\n",
    "**Таблица `publishers`**\n",
    "\n",
    "Содержит данные об издательствах:\n",
    "\n",
    "- `publisher_id` — идентификатор издательства;\n",
    "- `publisher` — название издательства;\n",
    "\n",
    "**Таблица `ratings`**\n",
    "\n",
    "Содержит данные о пользовательских оценках книг:\n",
    "\n",
    "- `rating_id` — идентификатор оценки;\n",
    "- `book_id` — идентификатор книги;\n",
    "- `username` — имя пользователя, оставившего оценку;\n",
    "- `rating` — оценка книги.\n",
    "\n",
    "**Таблица `reviews`**\n",
    "\n",
    "Содержит данные о пользовательских обзорах на книги:\n",
    "\n",
    "- `review_id` — идентификатор обзора;\n",
    "- `book_id` — идентификатор книги;\n",
    "- `username` — имя пользователя, написавшего обзор;\n",
    "- `text` — текст обзора."
   ]
  },
  {
   "cell_type": "markdown",
   "id": "eaf26942",
   "metadata": {},
   "source": [
    "# Схема базы данных"
   ]
  },
  {
   "cell_type": "markdown",
   "id": "e7cf467d",
   "metadata": {},
   "source": [
    "![](https://concrete-web-bad.notion.site/image/https%3A%2F%2Fs3-us-west-2.amazonaws.com%2Fsecure.notion-static.com%2F069818d1-0e5c-4d87-a461-0de584ab9c33%2FUntitled_(33).png?id=bd53c8db-b4fd-49eb-8cc9-572ebb3c9163&table=block&spaceId=9e4bd47b-c6e6-4ca3-bcee-279794b47315&width=1640&userId=&cache=v2)"
   ]
  },
  {
   "cell_type": "markdown",
   "id": "ea3ab3ab",
   "metadata": {},
   "source": [
    "**Навыки и инструменты**"
   ]
  },
  {
   "cell_type": "markdown",
   "id": "cb0ac35c",
   "metadata": {},
   "source": [
    "`Python`  \n",
    "`Pandas`  \n",
    "`PostgreSQL`  \n",
    "`SQL`  "
   ]
  },
  {
   "cell_type": "markdown",
   "id": "0ce09d5f",
   "metadata": {},
   "source": [
    "**Вывод**"
   ]
  },
  {
   "cell_type": "markdown",
   "id": "b560bf10",
   "metadata": {},
   "source": [
    "Анализ данных таблиц показал следующее:\n",
    "\n",
    "* 1. После 1 января 2000 года вышло **`819 книг`**.  \n",
    "\n",
    "\n",
    "* 2. Для каждой книги было расчитано количество обзоров и средняя оценка.  \n",
    "Максимальное количество обзоров у книги: **`Twilight (Twilight #1) - 1120 обзоров, рейтинг - 3,66.`**  \n",
    "\n",
    "\n",
    "* 3. Издательство, которое выпустило наибольшее число книг толще 50 страниц - **`Penguin Books (42 книги)`**.  \n",
    "\n",
    "\n",
    "* 4. Автор с самой высокой средней оценкой книг (учитывая только книги с 50 и более оценками) - **`J.K. Rowling/Mary GrandPré, средняя оценка книг - 4,29.`**  \n",
    "\n",
    "\n",
    "* 5.  Cреднее количество обзоров от пользователей, которые поставили больше 50 оценок: **`24,33.`**"
   ]
  },
  {
   "cell_type": "markdown",
   "id": "e26191d1",
   "metadata": {
    "toc": true
   },
   "source": [
    "<h1>Содержание<span class=\"tocSkip\"></span></h1>\n",
    "<div class=\"toc\"><ul class=\"toc-item\"><li><span><a href=\"#Подключение-к-базе-данных.\" data-toc-modified-id=\"Подключение-к-базе-данных.-1\"><span class=\"toc-item-num\">1&nbsp;&nbsp;</span>Подключение к базе данных.</a></span></li><li><span><a href=\"#Исследование-данных-таблиц.\" data-toc-modified-id=\"Исследование-данных-таблиц.-2\"><span class=\"toc-item-num\">2&nbsp;&nbsp;</span>Исследование данных таблиц.</a></span></li><li><span><a href=\"#Анализ-данных-таблиц.\" data-toc-modified-id=\"Анализ-данных-таблиц.-3\"><span class=\"toc-item-num\">3&nbsp;&nbsp;</span>Анализ данных таблиц.</a></span><ul class=\"toc-item\"><li><span><a href=\"#Количество-книг,-вышедших-после-1-января-2000-года.\" data-toc-modified-id=\"Количество-книг,-вышедших-после-1-января-2000-года.-3.1\"><span class=\"toc-item-num\">3.1&nbsp;&nbsp;</span>Количество книг, вышедших после 1 января 2000 года.</a></span></li><li><span><a href=\"#Количество-обзоров-и-средняя-оценка-для-каждой-книги.\" data-toc-modified-id=\"Количество-обзоров-и-средняя-оценка-для-каждой-книги.-3.2\"><span class=\"toc-item-num\">3.2&nbsp;&nbsp;</span>Количество обзоров и средняя оценка для каждой книги.</a></span></li><li><span><a href=\"#Издательство,-выпустившее-наибольшее-число-книг-толще-50-страниц.\" data-toc-modified-id=\"Издательство,-выпустившее-наибольшее-число-книг-толще-50-страниц.-3.3\"><span class=\"toc-item-num\">3.3&nbsp;&nbsp;</span>Издательство, выпустившее наибольшее число книг толще 50 страниц.</a></span></li><li><span><a href=\"#Автор-с-самой-высокой-средней-оценкой-книг,-имеющих-50-и-более-оценок.\" data-toc-modified-id=\"Автор-с-самой-высокой-средней-оценкой-книг,-имеющих-50-и-более-оценок.-3.4\"><span class=\"toc-item-num\">3.4&nbsp;&nbsp;</span>Автор с самой высокой средней оценкой книг, имеющих 50 и более оценок.</a></span></li><li><span><a href=\"#Среднее-количество-обзоров-от-пользователей,-которые-поставили-больше-50-оценок.\" data-toc-modified-id=\"Среднее-количество-обзоров-от-пользователей,-которые-поставили-больше-50-оценок.-3.5\"><span class=\"toc-item-num\">3.5&nbsp;&nbsp;</span>Среднее количество обзоров от пользователей, которые поставили больше 50 оценок.</a></span></li></ul></li><li><span><a href=\"#Вывод.\" data-toc-modified-id=\"Вывод.-4\"><span class=\"toc-item-num\">4&nbsp;&nbsp;</span>Вывод.</a></span></li></ul></div>"
   ]
  },
  {
   "cell_type": "markdown",
   "id": "12a51a4f",
   "metadata": {},
   "source": [
    "___________________________"
   ]
  },
  {
   "cell_type": "markdown",
   "id": "bd662f2e",
   "metadata": {},
   "source": [
    "## Подключение к базе данных."
   ]
  },
  {
   "cell_type": "code",
   "execution_count": 1,
   "id": "fb9acf9b",
   "metadata": {},
   "outputs": [],
   "source": [
    "# импортируем библиотеки\n",
    "import pandas as pd\n",
    "from sqlalchemy import create_engine"
   ]
  },
  {
   "cell_type": "code",
   "execution_count": 2,
   "id": "f92b54e5",
   "metadata": {},
   "outputs": [],
   "source": [
    "# задаём параметры подключения к БД\n",
    "db_config = {'user': '...', # имя пользователя\n",
    "            'pwd': '...', # пароль\n",
    "            'host': '...',\n",
    "            'port': ...., # порт подключения\n",
    "            'db': '...'} # название базы данных\n",
    "\n",
    "# формируем строку соединения с БД\n",
    "connection_string = 'postgresql://{}:{}@{}:{}/{}'.format(db_config['user'],\n",
    "                                                db_config['pwd'],\n",
    "                                                db_config['host'],\n",
    "                                                db_config['port'],\n",
    "                                                db_config['db'])\n",
    "# подключаемся к БД\n",
    "engine = create_engine(connection_string, connect_args={'sslmode':'require'})"
   ]
  },
  {
   "cell_type": "markdown",
   "id": "75b9f0a8",
   "metadata": {},
   "source": [
    "## Исследование данных таблиц."
   ]
  },
  {
   "cell_type": "markdown",
   "id": "ed4a5cb1",
   "metadata": {},
   "source": [
    "Выведем первые 5 строк и общую информацию о таблицах, количество пропусков и дубликатов в них.  \n",
    "\n",
    "Для вывода информации по таблицам будем использовать функцию."
   ]
  },
  {
   "cell_type": "code",
   "execution_count": 3,
   "id": "8388751f",
   "metadata": {},
   "outputs": [],
   "source": [
    "def data_view(table_name):\n",
    "    \n",
    "    \"\"\"Эта функция выводит первые 5 строк таблицы, \n",
    "    общую информацию о таблице, количестве пропусков \n",
    "    и дубликатов в ней.\n",
    "\n",
    "    Функция принимает на вход следующий аргумент:\n",
    "    - название таблицы.\n",
    "    \n",
    "    \"\"\"\n",
    "    \n",
    "    # формируем sql-запрос данных таблицы\n",
    "    query = f'''SELECT * \n",
    "                FROM {table_name};\n",
    "             '''\n",
    "    \n",
    "    # выполняем запрос и сохраняем результат выполнения в переменную \"data\"\n",
    "    data = pd.io.sql.read_sql(query, con = engine)\n",
    "    \n",
    "    # выводим информацию о таблице\n",
    "    print('\\033[1m_\\033[0m' * 80)\n",
    "    print(' ')\n",
    "    print(f'\\033[1m Первые 5 строк таблицы \"{table_name}\": \\033[0m')\n",
    "    display(data.head())\n",
    "    print('_' * 50)\n",
    "    print(' ')\n",
    "    print(f'\\033[1m Информация о таблице \"{table_name}\": \\033[0m')\n",
    "    print(' ')\n",
    "    data.info()\n",
    "    print('_' * 50)\n",
    "    print(' ')\n",
    "    print(f'\\033[1m Количество пропусков в таблице \"{table_name}\": \\033[0m')\n",
    "    print(' ')\n",
    "    print(data.isna().sum())\n",
    "    print('_' * 50)\n",
    "    print(' ')\n",
    "    print(f'\\033[1m Количество дубликатов в таблице \"{table_name}\": \\033[0m {data.duplicated().sum()}')"
   ]
  },
  {
   "cell_type": "markdown",
   "id": "bccfdad1",
   "metadata": {},
   "source": [
    "Сохраним названия таблиц в список и выведем информацию о таблицах."
   ]
  },
  {
   "cell_type": "code",
   "execution_count": 4,
   "id": "e2decee1",
   "metadata": {
    "scrolled": false
   },
   "outputs": [
    {
     "name": "stdout",
     "output_type": "stream",
     "text": [
      "\u001b[1m_\u001b[0m\u001b[1m_\u001b[0m\u001b[1m_\u001b[0m\u001b[1m_\u001b[0m\u001b[1m_\u001b[0m\u001b[1m_\u001b[0m\u001b[1m_\u001b[0m\u001b[1m_\u001b[0m\u001b[1m_\u001b[0m\u001b[1m_\u001b[0m\u001b[1m_\u001b[0m\u001b[1m_\u001b[0m\u001b[1m_\u001b[0m\u001b[1m_\u001b[0m\u001b[1m_\u001b[0m\u001b[1m_\u001b[0m\u001b[1m_\u001b[0m\u001b[1m_\u001b[0m\u001b[1m_\u001b[0m\u001b[1m_\u001b[0m\u001b[1m_\u001b[0m\u001b[1m_\u001b[0m\u001b[1m_\u001b[0m\u001b[1m_\u001b[0m\u001b[1m_\u001b[0m\u001b[1m_\u001b[0m\u001b[1m_\u001b[0m\u001b[1m_\u001b[0m\u001b[1m_\u001b[0m\u001b[1m_\u001b[0m\u001b[1m_\u001b[0m\u001b[1m_\u001b[0m\u001b[1m_\u001b[0m\u001b[1m_\u001b[0m\u001b[1m_\u001b[0m\u001b[1m_\u001b[0m\u001b[1m_\u001b[0m\u001b[1m_\u001b[0m\u001b[1m_\u001b[0m\u001b[1m_\u001b[0m\u001b[1m_\u001b[0m\u001b[1m_\u001b[0m\u001b[1m_\u001b[0m\u001b[1m_\u001b[0m\u001b[1m_\u001b[0m\u001b[1m_\u001b[0m\u001b[1m_\u001b[0m\u001b[1m_\u001b[0m\u001b[1m_\u001b[0m\u001b[1m_\u001b[0m\u001b[1m_\u001b[0m\u001b[1m_\u001b[0m\u001b[1m_\u001b[0m\u001b[1m_\u001b[0m\u001b[1m_\u001b[0m\u001b[1m_\u001b[0m\u001b[1m_\u001b[0m\u001b[1m_\u001b[0m\u001b[1m_\u001b[0m\u001b[1m_\u001b[0m\u001b[1m_\u001b[0m\u001b[1m_\u001b[0m\u001b[1m_\u001b[0m\u001b[1m_\u001b[0m\u001b[1m_\u001b[0m\u001b[1m_\u001b[0m\u001b[1m_\u001b[0m\u001b[1m_\u001b[0m\u001b[1m_\u001b[0m\u001b[1m_\u001b[0m\u001b[1m_\u001b[0m\u001b[1m_\u001b[0m\u001b[1m_\u001b[0m\u001b[1m_\u001b[0m\u001b[1m_\u001b[0m\u001b[1m_\u001b[0m\u001b[1m_\u001b[0m\u001b[1m_\u001b[0m\u001b[1m_\u001b[0m\u001b[1m_\u001b[0m\n",
      " \n",
      "\u001b[1m Первые 5 строк таблицы \"books\": \u001b[0m\n"
     ]
    },
    {
     "data": {
      "text/html": [
       "<div>\n",
       "<style scoped>\n",
       "    .dataframe tbody tr th:only-of-type {\n",
       "        vertical-align: middle;\n",
       "    }\n",
       "\n",
       "    .dataframe tbody tr th {\n",
       "        vertical-align: top;\n",
       "    }\n",
       "\n",
       "    .dataframe thead th {\n",
       "        text-align: right;\n",
       "    }\n",
       "</style>\n",
       "<table border=\"1\" class=\"dataframe\">\n",
       "  <thead>\n",
       "    <tr style=\"text-align: right;\">\n",
       "      <th></th>\n",
       "      <th>book_id</th>\n",
       "      <th>author_id</th>\n",
       "      <th>title</th>\n",
       "      <th>num_pages</th>\n",
       "      <th>publication_date</th>\n",
       "      <th>publisher_id</th>\n",
       "    </tr>\n",
       "  </thead>\n",
       "  <tbody>\n",
       "    <tr>\n",
       "      <th>0</th>\n",
       "      <td>1</td>\n",
       "      <td>546</td>\n",
       "      <td>'Salem's Lot</td>\n",
       "      <td>594</td>\n",
       "      <td>2005-11-01</td>\n",
       "      <td>93</td>\n",
       "    </tr>\n",
       "    <tr>\n",
       "      <th>1</th>\n",
       "      <td>2</td>\n",
       "      <td>465</td>\n",
       "      <td>1 000 Places to See Before You Die</td>\n",
       "      <td>992</td>\n",
       "      <td>2003-05-22</td>\n",
       "      <td>336</td>\n",
       "    </tr>\n",
       "    <tr>\n",
       "      <th>2</th>\n",
       "      <td>3</td>\n",
       "      <td>407</td>\n",
       "      <td>13 Little Blue Envelopes (Little Blue Envelope...</td>\n",
       "      <td>322</td>\n",
       "      <td>2010-12-21</td>\n",
       "      <td>135</td>\n",
       "    </tr>\n",
       "    <tr>\n",
       "      <th>3</th>\n",
       "      <td>4</td>\n",
       "      <td>82</td>\n",
       "      <td>1491: New Revelations of the Americas Before C...</td>\n",
       "      <td>541</td>\n",
       "      <td>2006-10-10</td>\n",
       "      <td>309</td>\n",
       "    </tr>\n",
       "    <tr>\n",
       "      <th>4</th>\n",
       "      <td>5</td>\n",
       "      <td>125</td>\n",
       "      <td>1776</td>\n",
       "      <td>386</td>\n",
       "      <td>2006-07-04</td>\n",
       "      <td>268</td>\n",
       "    </tr>\n",
       "  </tbody>\n",
       "</table>\n",
       "</div>"
      ],
      "text/plain": [
       "   book_id  author_id                                              title  \\\n",
       "0        1        546                                       'Salem's Lot   \n",
       "1        2        465                 1 000 Places to See Before You Die   \n",
       "2        3        407  13 Little Blue Envelopes (Little Blue Envelope...   \n",
       "3        4         82  1491: New Revelations of the Americas Before C...   \n",
       "4        5        125                                               1776   \n",
       "\n",
       "   num_pages publication_date  publisher_id  \n",
       "0        594       2005-11-01            93  \n",
       "1        992       2003-05-22           336  \n",
       "2        322       2010-12-21           135  \n",
       "3        541       2006-10-10           309  \n",
       "4        386       2006-07-04           268  "
      ]
     },
     "metadata": {},
     "output_type": "display_data"
    },
    {
     "name": "stdout",
     "output_type": "stream",
     "text": [
      "__________________________________________________\n",
      " \n",
      "\u001b[1m Информация о таблице \"books\": \u001b[0m\n",
      " \n",
      "<class 'pandas.core.frame.DataFrame'>\n",
      "RangeIndex: 1000 entries, 0 to 999\n",
      "Data columns (total 6 columns):\n",
      " #   Column            Non-Null Count  Dtype \n",
      "---  ------            --------------  ----- \n",
      " 0   book_id           1000 non-null   int64 \n",
      " 1   author_id         1000 non-null   int64 \n",
      " 2   title             1000 non-null   object\n",
      " 3   num_pages         1000 non-null   int64 \n",
      " 4   publication_date  1000 non-null   object\n",
      " 5   publisher_id      1000 non-null   int64 \n",
      "dtypes: int64(4), object(2)\n",
      "memory usage: 47.0+ KB\n",
      "__________________________________________________\n",
      " \n",
      "\u001b[1m Количество пропусков в таблице \"books\": \u001b[0m\n",
      " \n",
      "book_id             0\n",
      "author_id           0\n",
      "title               0\n",
      "num_pages           0\n",
      "publication_date    0\n",
      "publisher_id        0\n",
      "dtype: int64\n",
      "__________________________________________________\n",
      " \n",
      "\u001b[1m Количество дубликатов в таблице \"books\": \u001b[0m 0\n",
      "\u001b[1m_\u001b[0m\u001b[1m_\u001b[0m\u001b[1m_\u001b[0m\u001b[1m_\u001b[0m\u001b[1m_\u001b[0m\u001b[1m_\u001b[0m\u001b[1m_\u001b[0m\u001b[1m_\u001b[0m\u001b[1m_\u001b[0m\u001b[1m_\u001b[0m\u001b[1m_\u001b[0m\u001b[1m_\u001b[0m\u001b[1m_\u001b[0m\u001b[1m_\u001b[0m\u001b[1m_\u001b[0m\u001b[1m_\u001b[0m\u001b[1m_\u001b[0m\u001b[1m_\u001b[0m\u001b[1m_\u001b[0m\u001b[1m_\u001b[0m\u001b[1m_\u001b[0m\u001b[1m_\u001b[0m\u001b[1m_\u001b[0m\u001b[1m_\u001b[0m\u001b[1m_\u001b[0m\u001b[1m_\u001b[0m\u001b[1m_\u001b[0m\u001b[1m_\u001b[0m\u001b[1m_\u001b[0m\u001b[1m_\u001b[0m\u001b[1m_\u001b[0m\u001b[1m_\u001b[0m\u001b[1m_\u001b[0m\u001b[1m_\u001b[0m\u001b[1m_\u001b[0m\u001b[1m_\u001b[0m\u001b[1m_\u001b[0m\u001b[1m_\u001b[0m\u001b[1m_\u001b[0m\u001b[1m_\u001b[0m\u001b[1m_\u001b[0m\u001b[1m_\u001b[0m\u001b[1m_\u001b[0m\u001b[1m_\u001b[0m\u001b[1m_\u001b[0m\u001b[1m_\u001b[0m\u001b[1m_\u001b[0m\u001b[1m_\u001b[0m\u001b[1m_\u001b[0m\u001b[1m_\u001b[0m\u001b[1m_\u001b[0m\u001b[1m_\u001b[0m\u001b[1m_\u001b[0m\u001b[1m_\u001b[0m\u001b[1m_\u001b[0m\u001b[1m_\u001b[0m\u001b[1m_\u001b[0m\u001b[1m_\u001b[0m\u001b[1m_\u001b[0m\u001b[1m_\u001b[0m\u001b[1m_\u001b[0m\u001b[1m_\u001b[0m\u001b[1m_\u001b[0m\u001b[1m_\u001b[0m\u001b[1m_\u001b[0m\u001b[1m_\u001b[0m\u001b[1m_\u001b[0m\u001b[1m_\u001b[0m\u001b[1m_\u001b[0m\u001b[1m_\u001b[0m\u001b[1m_\u001b[0m\u001b[1m_\u001b[0m\u001b[1m_\u001b[0m\u001b[1m_\u001b[0m\u001b[1m_\u001b[0m\u001b[1m_\u001b[0m\u001b[1m_\u001b[0m\u001b[1m_\u001b[0m\u001b[1m_\u001b[0m\u001b[1m_\u001b[0m\n",
      " \n",
      "\u001b[1m Первые 5 строк таблицы \"authors\": \u001b[0m\n"
     ]
    },
    {
     "data": {
      "text/html": [
       "<div>\n",
       "<style scoped>\n",
       "    .dataframe tbody tr th:only-of-type {\n",
       "        vertical-align: middle;\n",
       "    }\n",
       "\n",
       "    .dataframe tbody tr th {\n",
       "        vertical-align: top;\n",
       "    }\n",
       "\n",
       "    .dataframe thead th {\n",
       "        text-align: right;\n",
       "    }\n",
       "</style>\n",
       "<table border=\"1\" class=\"dataframe\">\n",
       "  <thead>\n",
       "    <tr style=\"text-align: right;\">\n",
       "      <th></th>\n",
       "      <th>author_id</th>\n",
       "      <th>author</th>\n",
       "    </tr>\n",
       "  </thead>\n",
       "  <tbody>\n",
       "    <tr>\n",
       "      <th>0</th>\n",
       "      <td>1</td>\n",
       "      <td>A.S. Byatt</td>\n",
       "    </tr>\n",
       "    <tr>\n",
       "      <th>1</th>\n",
       "      <td>2</td>\n",
       "      <td>Aesop/Laura Harris/Laura Gibbs</td>\n",
       "    </tr>\n",
       "    <tr>\n",
       "      <th>2</th>\n",
       "      <td>3</td>\n",
       "      <td>Agatha Christie</td>\n",
       "    </tr>\n",
       "    <tr>\n",
       "      <th>3</th>\n",
       "      <td>4</td>\n",
       "      <td>Alan Brennert</td>\n",
       "    </tr>\n",
       "    <tr>\n",
       "      <th>4</th>\n",
       "      <td>5</td>\n",
       "      <td>Alan Moore/David   Lloyd</td>\n",
       "    </tr>\n",
       "  </tbody>\n",
       "</table>\n",
       "</div>"
      ],
      "text/plain": [
       "   author_id                          author\n",
       "0          1                      A.S. Byatt\n",
       "1          2  Aesop/Laura Harris/Laura Gibbs\n",
       "2          3                 Agatha Christie\n",
       "3          4                   Alan Brennert\n",
       "4          5        Alan Moore/David   Lloyd"
      ]
     },
     "metadata": {},
     "output_type": "display_data"
    },
    {
     "name": "stdout",
     "output_type": "stream",
     "text": [
      "__________________________________________________\n",
      " \n",
      "\u001b[1m Информация о таблице \"authors\": \u001b[0m\n",
      " \n",
      "<class 'pandas.core.frame.DataFrame'>\n",
      "RangeIndex: 636 entries, 0 to 635\n",
      "Data columns (total 2 columns):\n",
      " #   Column     Non-Null Count  Dtype \n",
      "---  ------     --------------  ----- \n",
      " 0   author_id  636 non-null    int64 \n",
      " 1   author     636 non-null    object\n",
      "dtypes: int64(1), object(1)\n",
      "memory usage: 10.1+ KB\n",
      "__________________________________________________\n",
      " \n",
      "\u001b[1m Количество пропусков в таблице \"authors\": \u001b[0m\n",
      " \n",
      "author_id    0\n",
      "author       0\n",
      "dtype: int64\n",
      "__________________________________________________\n",
      " \n",
      "\u001b[1m Количество дубликатов в таблице \"authors\": \u001b[0m 0\n",
      "\u001b[1m_\u001b[0m\u001b[1m_\u001b[0m\u001b[1m_\u001b[0m\u001b[1m_\u001b[0m\u001b[1m_\u001b[0m\u001b[1m_\u001b[0m\u001b[1m_\u001b[0m\u001b[1m_\u001b[0m\u001b[1m_\u001b[0m\u001b[1m_\u001b[0m\u001b[1m_\u001b[0m\u001b[1m_\u001b[0m\u001b[1m_\u001b[0m\u001b[1m_\u001b[0m\u001b[1m_\u001b[0m\u001b[1m_\u001b[0m\u001b[1m_\u001b[0m\u001b[1m_\u001b[0m\u001b[1m_\u001b[0m\u001b[1m_\u001b[0m\u001b[1m_\u001b[0m\u001b[1m_\u001b[0m\u001b[1m_\u001b[0m\u001b[1m_\u001b[0m\u001b[1m_\u001b[0m\u001b[1m_\u001b[0m\u001b[1m_\u001b[0m\u001b[1m_\u001b[0m\u001b[1m_\u001b[0m\u001b[1m_\u001b[0m\u001b[1m_\u001b[0m\u001b[1m_\u001b[0m\u001b[1m_\u001b[0m\u001b[1m_\u001b[0m\u001b[1m_\u001b[0m\u001b[1m_\u001b[0m\u001b[1m_\u001b[0m\u001b[1m_\u001b[0m\u001b[1m_\u001b[0m\u001b[1m_\u001b[0m\u001b[1m_\u001b[0m\u001b[1m_\u001b[0m\u001b[1m_\u001b[0m\u001b[1m_\u001b[0m\u001b[1m_\u001b[0m\u001b[1m_\u001b[0m\u001b[1m_\u001b[0m\u001b[1m_\u001b[0m\u001b[1m_\u001b[0m\u001b[1m_\u001b[0m\u001b[1m_\u001b[0m\u001b[1m_\u001b[0m\u001b[1m_\u001b[0m\u001b[1m_\u001b[0m\u001b[1m_\u001b[0m\u001b[1m_\u001b[0m\u001b[1m_\u001b[0m\u001b[1m_\u001b[0m\u001b[1m_\u001b[0m\u001b[1m_\u001b[0m\u001b[1m_\u001b[0m\u001b[1m_\u001b[0m\u001b[1m_\u001b[0m\u001b[1m_\u001b[0m\u001b[1m_\u001b[0m\u001b[1m_\u001b[0m\u001b[1m_\u001b[0m\u001b[1m_\u001b[0m\u001b[1m_\u001b[0m\u001b[1m_\u001b[0m\u001b[1m_\u001b[0m\u001b[1m_\u001b[0m\u001b[1m_\u001b[0m\u001b[1m_\u001b[0m\u001b[1m_\u001b[0m\u001b[1m_\u001b[0m\u001b[1m_\u001b[0m\u001b[1m_\u001b[0m\u001b[1m_\u001b[0m\u001b[1m_\u001b[0m\n",
      " \n",
      "\u001b[1m Первые 5 строк таблицы \"ratings\": \u001b[0m\n"
     ]
    },
    {
     "data": {
      "text/html": [
       "<div>\n",
       "<style scoped>\n",
       "    .dataframe tbody tr th:only-of-type {\n",
       "        vertical-align: middle;\n",
       "    }\n",
       "\n",
       "    .dataframe tbody tr th {\n",
       "        vertical-align: top;\n",
       "    }\n",
       "\n",
       "    .dataframe thead th {\n",
       "        text-align: right;\n",
       "    }\n",
       "</style>\n",
       "<table border=\"1\" class=\"dataframe\">\n",
       "  <thead>\n",
       "    <tr style=\"text-align: right;\">\n",
       "      <th></th>\n",
       "      <th>rating_id</th>\n",
       "      <th>book_id</th>\n",
       "      <th>username</th>\n",
       "      <th>rating</th>\n",
       "    </tr>\n",
       "  </thead>\n",
       "  <tbody>\n",
       "    <tr>\n",
       "      <th>0</th>\n",
       "      <td>1</td>\n",
       "      <td>1</td>\n",
       "      <td>ryanfranco</td>\n",
       "      <td>4</td>\n",
       "    </tr>\n",
       "    <tr>\n",
       "      <th>1</th>\n",
       "      <td>2</td>\n",
       "      <td>1</td>\n",
       "      <td>grantpatricia</td>\n",
       "      <td>2</td>\n",
       "    </tr>\n",
       "    <tr>\n",
       "      <th>2</th>\n",
       "      <td>3</td>\n",
       "      <td>1</td>\n",
       "      <td>brandtandrea</td>\n",
       "      <td>5</td>\n",
       "    </tr>\n",
       "    <tr>\n",
       "      <th>3</th>\n",
       "      <td>4</td>\n",
       "      <td>2</td>\n",
       "      <td>lorichen</td>\n",
       "      <td>3</td>\n",
       "    </tr>\n",
       "    <tr>\n",
       "      <th>4</th>\n",
       "      <td>5</td>\n",
       "      <td>2</td>\n",
       "      <td>mariokeller</td>\n",
       "      <td>2</td>\n",
       "    </tr>\n",
       "  </tbody>\n",
       "</table>\n",
       "</div>"
      ],
      "text/plain": [
       "   rating_id  book_id       username  rating\n",
       "0          1        1     ryanfranco       4\n",
       "1          2        1  grantpatricia       2\n",
       "2          3        1   brandtandrea       5\n",
       "3          4        2       lorichen       3\n",
       "4          5        2    mariokeller       2"
      ]
     },
     "metadata": {},
     "output_type": "display_data"
    },
    {
     "name": "stdout",
     "output_type": "stream",
     "text": [
      "__________________________________________________\n",
      " \n",
      "\u001b[1m Информация о таблице \"ratings\": \u001b[0m\n",
      " \n",
      "<class 'pandas.core.frame.DataFrame'>\n",
      "RangeIndex: 6456 entries, 0 to 6455\n",
      "Data columns (total 4 columns):\n",
      " #   Column     Non-Null Count  Dtype \n",
      "---  ------     --------------  ----- \n",
      " 0   rating_id  6456 non-null   int64 \n",
      " 1   book_id    6456 non-null   int64 \n",
      " 2   username   6456 non-null   object\n",
      " 3   rating     6456 non-null   int64 \n",
      "dtypes: int64(3), object(1)\n",
      "memory usage: 201.9+ KB\n",
      "__________________________________________________\n",
      " \n",
      "\u001b[1m Количество пропусков в таблице \"ratings\": \u001b[0m\n",
      " \n",
      "rating_id    0\n",
      "book_id      0\n",
      "username     0\n",
      "rating       0\n",
      "dtype: int64\n",
      "__________________________________________________\n",
      " \n",
      "\u001b[1m Количество дубликатов в таблице \"ratings\": \u001b[0m 0\n",
      "\u001b[1m_\u001b[0m\u001b[1m_\u001b[0m\u001b[1m_\u001b[0m\u001b[1m_\u001b[0m\u001b[1m_\u001b[0m\u001b[1m_\u001b[0m\u001b[1m_\u001b[0m\u001b[1m_\u001b[0m\u001b[1m_\u001b[0m\u001b[1m_\u001b[0m\u001b[1m_\u001b[0m\u001b[1m_\u001b[0m\u001b[1m_\u001b[0m\u001b[1m_\u001b[0m\u001b[1m_\u001b[0m\u001b[1m_\u001b[0m\u001b[1m_\u001b[0m\u001b[1m_\u001b[0m\u001b[1m_\u001b[0m\u001b[1m_\u001b[0m\u001b[1m_\u001b[0m\u001b[1m_\u001b[0m\u001b[1m_\u001b[0m\u001b[1m_\u001b[0m\u001b[1m_\u001b[0m\u001b[1m_\u001b[0m\u001b[1m_\u001b[0m\u001b[1m_\u001b[0m\u001b[1m_\u001b[0m\u001b[1m_\u001b[0m\u001b[1m_\u001b[0m\u001b[1m_\u001b[0m\u001b[1m_\u001b[0m\u001b[1m_\u001b[0m\u001b[1m_\u001b[0m\u001b[1m_\u001b[0m\u001b[1m_\u001b[0m\u001b[1m_\u001b[0m\u001b[1m_\u001b[0m\u001b[1m_\u001b[0m\u001b[1m_\u001b[0m\u001b[1m_\u001b[0m\u001b[1m_\u001b[0m\u001b[1m_\u001b[0m\u001b[1m_\u001b[0m\u001b[1m_\u001b[0m\u001b[1m_\u001b[0m\u001b[1m_\u001b[0m\u001b[1m_\u001b[0m\u001b[1m_\u001b[0m\u001b[1m_\u001b[0m\u001b[1m_\u001b[0m\u001b[1m_\u001b[0m\u001b[1m_\u001b[0m\u001b[1m_\u001b[0m\u001b[1m_\u001b[0m\u001b[1m_\u001b[0m\u001b[1m_\u001b[0m\u001b[1m_\u001b[0m\u001b[1m_\u001b[0m\u001b[1m_\u001b[0m\u001b[1m_\u001b[0m\u001b[1m_\u001b[0m\u001b[1m_\u001b[0m\u001b[1m_\u001b[0m\u001b[1m_\u001b[0m\u001b[1m_\u001b[0m\u001b[1m_\u001b[0m\u001b[1m_\u001b[0m\u001b[1m_\u001b[0m\u001b[1m_\u001b[0m\u001b[1m_\u001b[0m\u001b[1m_\u001b[0m\u001b[1m_\u001b[0m\u001b[1m_\u001b[0m\u001b[1m_\u001b[0m\u001b[1m_\u001b[0m\u001b[1m_\u001b[0m\u001b[1m_\u001b[0m\u001b[1m_\u001b[0m\n",
      " \n",
      "\u001b[1m Первые 5 строк таблицы \"reviews\": \u001b[0m\n"
     ]
    },
    {
     "data": {
      "text/html": [
       "<div>\n",
       "<style scoped>\n",
       "    .dataframe tbody tr th:only-of-type {\n",
       "        vertical-align: middle;\n",
       "    }\n",
       "\n",
       "    .dataframe tbody tr th {\n",
       "        vertical-align: top;\n",
       "    }\n",
       "\n",
       "    .dataframe thead th {\n",
       "        text-align: right;\n",
       "    }\n",
       "</style>\n",
       "<table border=\"1\" class=\"dataframe\">\n",
       "  <thead>\n",
       "    <tr style=\"text-align: right;\">\n",
       "      <th></th>\n",
       "      <th>review_id</th>\n",
       "      <th>book_id</th>\n",
       "      <th>username</th>\n",
       "      <th>text</th>\n",
       "    </tr>\n",
       "  </thead>\n",
       "  <tbody>\n",
       "    <tr>\n",
       "      <th>0</th>\n",
       "      <td>1</td>\n",
       "      <td>1</td>\n",
       "      <td>brandtandrea</td>\n",
       "      <td>Mention society tell send professor analysis. ...</td>\n",
       "    </tr>\n",
       "    <tr>\n",
       "      <th>1</th>\n",
       "      <td>2</td>\n",
       "      <td>1</td>\n",
       "      <td>ryanfranco</td>\n",
       "      <td>Foot glass pretty audience hit themselves. Amo...</td>\n",
       "    </tr>\n",
       "    <tr>\n",
       "      <th>2</th>\n",
       "      <td>3</td>\n",
       "      <td>2</td>\n",
       "      <td>lorichen</td>\n",
       "      <td>Listen treat keep worry. Miss husband tax but ...</td>\n",
       "    </tr>\n",
       "    <tr>\n",
       "      <th>3</th>\n",
       "      <td>4</td>\n",
       "      <td>3</td>\n",
       "      <td>johnsonamanda</td>\n",
       "      <td>Finally month interesting blue could nature cu...</td>\n",
       "    </tr>\n",
       "    <tr>\n",
       "      <th>4</th>\n",
       "      <td>5</td>\n",
       "      <td>3</td>\n",
       "      <td>scotttamara</td>\n",
       "      <td>Nation purpose heavy give wait song will. List...</td>\n",
       "    </tr>\n",
       "  </tbody>\n",
       "</table>\n",
       "</div>"
      ],
      "text/plain": [
       "   review_id  book_id       username  \\\n",
       "0          1        1   brandtandrea   \n",
       "1          2        1     ryanfranco   \n",
       "2          3        2       lorichen   \n",
       "3          4        3  johnsonamanda   \n",
       "4          5        3    scotttamara   \n",
       "\n",
       "                                                text  \n",
       "0  Mention society tell send professor analysis. ...  \n",
       "1  Foot glass pretty audience hit themselves. Amo...  \n",
       "2  Listen treat keep worry. Miss husband tax but ...  \n",
       "3  Finally month interesting blue could nature cu...  \n",
       "4  Nation purpose heavy give wait song will. List...  "
      ]
     },
     "metadata": {},
     "output_type": "display_data"
    },
    {
     "name": "stdout",
     "output_type": "stream",
     "text": [
      "__________________________________________________\n",
      " \n",
      "\u001b[1m Информация о таблице \"reviews\": \u001b[0m\n",
      " \n",
      "<class 'pandas.core.frame.DataFrame'>\n",
      "RangeIndex: 2793 entries, 0 to 2792\n",
      "Data columns (total 4 columns):\n",
      " #   Column     Non-Null Count  Dtype \n",
      "---  ------     --------------  ----- \n",
      " 0   review_id  2793 non-null   int64 \n",
      " 1   book_id    2793 non-null   int64 \n",
      " 2   username   2793 non-null   object\n",
      " 3   text       2793 non-null   object\n",
      "dtypes: int64(2), object(2)\n",
      "memory usage: 87.4+ KB\n",
      "__________________________________________________\n",
      " \n",
      "\u001b[1m Количество пропусков в таблице \"reviews\": \u001b[0m\n",
      " \n",
      "review_id    0\n",
      "book_id      0\n",
      "username     0\n",
      "text         0\n",
      "dtype: int64\n",
      "__________________________________________________\n",
      " \n",
      "\u001b[1m Количество дубликатов в таблице \"reviews\": \u001b[0m 0\n",
      "\u001b[1m_\u001b[0m\u001b[1m_\u001b[0m\u001b[1m_\u001b[0m\u001b[1m_\u001b[0m\u001b[1m_\u001b[0m\u001b[1m_\u001b[0m\u001b[1m_\u001b[0m\u001b[1m_\u001b[0m\u001b[1m_\u001b[0m\u001b[1m_\u001b[0m\u001b[1m_\u001b[0m\u001b[1m_\u001b[0m\u001b[1m_\u001b[0m\u001b[1m_\u001b[0m\u001b[1m_\u001b[0m\u001b[1m_\u001b[0m\u001b[1m_\u001b[0m\u001b[1m_\u001b[0m\u001b[1m_\u001b[0m\u001b[1m_\u001b[0m\u001b[1m_\u001b[0m\u001b[1m_\u001b[0m\u001b[1m_\u001b[0m\u001b[1m_\u001b[0m\u001b[1m_\u001b[0m\u001b[1m_\u001b[0m\u001b[1m_\u001b[0m\u001b[1m_\u001b[0m\u001b[1m_\u001b[0m\u001b[1m_\u001b[0m\u001b[1m_\u001b[0m\u001b[1m_\u001b[0m\u001b[1m_\u001b[0m\u001b[1m_\u001b[0m\u001b[1m_\u001b[0m\u001b[1m_\u001b[0m\u001b[1m_\u001b[0m\u001b[1m_\u001b[0m\u001b[1m_\u001b[0m\u001b[1m_\u001b[0m\u001b[1m_\u001b[0m\u001b[1m_\u001b[0m\u001b[1m_\u001b[0m\u001b[1m_\u001b[0m\u001b[1m_\u001b[0m\u001b[1m_\u001b[0m\u001b[1m_\u001b[0m\u001b[1m_\u001b[0m\u001b[1m_\u001b[0m\u001b[1m_\u001b[0m\u001b[1m_\u001b[0m\u001b[1m_\u001b[0m\u001b[1m_\u001b[0m\u001b[1m_\u001b[0m\u001b[1m_\u001b[0m\u001b[1m_\u001b[0m\u001b[1m_\u001b[0m\u001b[1m_\u001b[0m\u001b[1m_\u001b[0m\u001b[1m_\u001b[0m\u001b[1m_\u001b[0m\u001b[1m_\u001b[0m\u001b[1m_\u001b[0m\u001b[1m_\u001b[0m\u001b[1m_\u001b[0m\u001b[1m_\u001b[0m\u001b[1m_\u001b[0m\u001b[1m_\u001b[0m\u001b[1m_\u001b[0m\u001b[1m_\u001b[0m\u001b[1m_\u001b[0m\u001b[1m_\u001b[0m\u001b[1m_\u001b[0m\u001b[1m_\u001b[0m\u001b[1m_\u001b[0m\u001b[1m_\u001b[0m\u001b[1m_\u001b[0m\u001b[1m_\u001b[0m\u001b[1m_\u001b[0m\u001b[1m_\u001b[0m\n",
      " \n",
      "\u001b[1m Первые 5 строк таблицы \"publishers\": \u001b[0m\n"
     ]
    },
    {
     "data": {
      "text/html": [
       "<div>\n",
       "<style scoped>\n",
       "    .dataframe tbody tr th:only-of-type {\n",
       "        vertical-align: middle;\n",
       "    }\n",
       "\n",
       "    .dataframe tbody tr th {\n",
       "        vertical-align: top;\n",
       "    }\n",
       "\n",
       "    .dataframe thead th {\n",
       "        text-align: right;\n",
       "    }\n",
       "</style>\n",
       "<table border=\"1\" class=\"dataframe\">\n",
       "  <thead>\n",
       "    <tr style=\"text-align: right;\">\n",
       "      <th></th>\n",
       "      <th>publisher_id</th>\n",
       "      <th>publisher</th>\n",
       "    </tr>\n",
       "  </thead>\n",
       "  <tbody>\n",
       "    <tr>\n",
       "      <th>0</th>\n",
       "      <td>1</td>\n",
       "      <td>Ace</td>\n",
       "    </tr>\n",
       "    <tr>\n",
       "      <th>1</th>\n",
       "      <td>2</td>\n",
       "      <td>Ace Book</td>\n",
       "    </tr>\n",
       "    <tr>\n",
       "      <th>2</th>\n",
       "      <td>3</td>\n",
       "      <td>Ace Books</td>\n",
       "    </tr>\n",
       "    <tr>\n",
       "      <th>3</th>\n",
       "      <td>4</td>\n",
       "      <td>Ace Hardcover</td>\n",
       "    </tr>\n",
       "    <tr>\n",
       "      <th>4</th>\n",
       "      <td>5</td>\n",
       "      <td>Addison Wesley Publishing Company</td>\n",
       "    </tr>\n",
       "  </tbody>\n",
       "</table>\n",
       "</div>"
      ],
      "text/plain": [
       "   publisher_id                          publisher\n",
       "0             1                                Ace\n",
       "1             2                           Ace Book\n",
       "2             3                          Ace Books\n",
       "3             4                      Ace Hardcover\n",
       "4             5  Addison Wesley Publishing Company"
      ]
     },
     "metadata": {},
     "output_type": "display_data"
    },
    {
     "name": "stdout",
     "output_type": "stream",
     "text": [
      "__________________________________________________\n",
      " \n",
      "\u001b[1m Информация о таблице \"publishers\": \u001b[0m\n",
      " \n",
      "<class 'pandas.core.frame.DataFrame'>\n",
      "RangeIndex: 340 entries, 0 to 339\n",
      "Data columns (total 2 columns):\n",
      " #   Column        Non-Null Count  Dtype \n",
      "---  ------        --------------  ----- \n",
      " 0   publisher_id  340 non-null    int64 \n",
      " 1   publisher     340 non-null    object\n",
      "dtypes: int64(1), object(1)\n",
      "memory usage: 5.4+ KB\n",
      "__________________________________________________\n",
      " \n",
      "\u001b[1m Количество пропусков в таблице \"publishers\": \u001b[0m\n",
      " \n",
      "publisher_id    0\n",
      "publisher       0\n",
      "dtype: int64\n",
      "__________________________________________________\n",
      " \n",
      "\u001b[1m Количество дубликатов в таблице \"publishers\": \u001b[0m 0\n"
     ]
    }
   ],
   "source": [
    "table_names = ['books', 'authors', 'ratings', 'reviews', 'publishers']\n",
    "\n",
    "for table in table_names:\n",
    "    data_view(table)"
   ]
  },
  {
   "cell_type": "markdown",
   "id": "38b7c23e",
   "metadata": {},
   "source": [
    "**Вывод по п.2.**\n",
    "\n",
    "В таблицах **`'books'`, `'authors'`, `'ratings'`, `'reviews'`** и **`'publishers'`** данные о книгах, авторах, пользовательских оценках книг и обзорах на книги, издательствах.  \n",
    "Типы данных столбцов — \"*object*\", \"*int64*\", соответствуют указанным в них значениям, кроме типа данных столбца `'publication_date'` таблицы **`'books'`**, т.к. он содержит дату и имеет тип данных \"*object*\". Поменять тип данных этого столбца можно при выгрузке, используя оператор \"CAST\", при этом тип данных в самой таблице не изменится.  \n",
    "В таблицах нет пропусков и дубликатов."
   ]
  },
  {
   "cell_type": "markdown",
   "id": "03d8f337",
   "metadata": {},
   "source": [
    "## Анализ данных таблиц."
   ]
  },
  {
   "cell_type": "markdown",
   "id": "31b991fa",
   "metadata": {},
   "source": [
    "Для анализа данных таблиц будем использовать следующую функцию."
   ]
  },
  {
   "cell_type": "code",
   "execution_count": 5,
   "id": "24470cfa",
   "metadata": {},
   "outputs": [],
   "source": [
    "def table_analysis(query):\n",
    "    \n",
    "    \"\"\"Эта функция выводит результат SQL-запроса.\n",
    "\n",
    "    Функция принимает на вход следующий аргумент:\n",
    "    - SQL-запрос, записанный в тройных кавычках.\n",
    "    \"\"\"\n",
    "    \n",
    "    # формируем sql-запрос\n",
    "    query_data = query\n",
    "\n",
    "    # выполняем запрос и сохраняем результат выполнения в переменную\n",
    "    result = pd.io.sql.read_sql(query_data, con = engine)\n",
    "    return result"
   ]
  },
  {
   "cell_type": "markdown",
   "id": "d06f5037",
   "metadata": {},
   "source": [
    "### Количество книг, вышедших после 1 января 2000 года."
   ]
  },
  {
   "cell_type": "markdown",
   "id": "119e8949",
   "metadata": {},
   "source": [
    "Посчитаем, сколько книг вышло после 1 января 2000 года."
   ]
  },
  {
   "cell_type": "code",
   "execution_count": 6,
   "id": "080133d6",
   "metadata": {},
   "outputs": [
    {
     "name": "stdout",
     "output_type": "stream",
     "text": [
      " \n",
      "Количество книг, вышедших после 1 января 2000 года: 819\n"
     ]
    }
   ],
   "source": [
    "query_1 = '''SELECT COUNT(*) \n",
    "             FROM books\n",
    "             WHERE CAST(publication_date AS date) > '2000-01-01';\n",
    "          '''\n",
    "\n",
    "print(' ')\n",
    "print('Количество книг, вышедших после 1 января 2000 года:', table_analysis(query_1)['count'][0])"
   ]
  },
  {
   "cell_type": "markdown",
   "id": "4c85565e",
   "metadata": {},
   "source": [
    "### Количество обзоров и средняя оценка для каждой книги."
   ]
  },
  {
   "cell_type": "markdown",
   "id": "2e528841",
   "metadata": {},
   "source": [
    "Для каждой книги посчитаем количество обзоров и среднюю оценку."
   ]
  },
  {
   "cell_type": "code",
   "execution_count": 7,
   "id": "44a46a5d",
   "metadata": {},
   "outputs": [
    {
     "name": "stdout",
     "output_type": "stream",
     "text": [
      " \n",
      "Количество обзоров и средняя оценка для каждой книги:\n"
     ]
    },
    {
     "data": {
      "text/html": [
       "<div>\n",
       "<style scoped>\n",
       "    .dataframe tbody tr th:only-of-type {\n",
       "        vertical-align: middle;\n",
       "    }\n",
       "\n",
       "    .dataframe tbody tr th {\n",
       "        vertical-align: top;\n",
       "    }\n",
       "\n",
       "    .dataframe thead th {\n",
       "        text-align: right;\n",
       "    }\n",
       "</style>\n",
       "<table border=\"1\" class=\"dataframe\">\n",
       "  <thead>\n",
       "    <tr style=\"text-align: right;\">\n",
       "      <th></th>\n",
       "      <th>book_id</th>\n",
       "      <th>title</th>\n",
       "      <th>review_quantity</th>\n",
       "      <th>avg_rating</th>\n",
       "    </tr>\n",
       "  </thead>\n",
       "  <tbody>\n",
       "    <tr>\n",
       "      <th>0</th>\n",
       "      <td>948</td>\n",
       "      <td>Twilight (Twilight  #1)</td>\n",
       "      <td>1120</td>\n",
       "      <td>3.66</td>\n",
       "    </tr>\n",
       "    <tr>\n",
       "      <th>1</th>\n",
       "      <td>750</td>\n",
       "      <td>The Hobbit  or There and Back Again</td>\n",
       "      <td>528</td>\n",
       "      <td>4.13</td>\n",
       "    </tr>\n",
       "    <tr>\n",
       "      <th>2</th>\n",
       "      <td>673</td>\n",
       "      <td>The Catcher in the Rye</td>\n",
       "      <td>516</td>\n",
       "      <td>3.83</td>\n",
       "    </tr>\n",
       "    <tr>\n",
       "      <th>3</th>\n",
       "      <td>302</td>\n",
       "      <td>Harry Potter and the Prisoner of Azkaban (Harr...</td>\n",
       "      <td>492</td>\n",
       "      <td>4.41</td>\n",
       "    </tr>\n",
       "    <tr>\n",
       "      <th>4</th>\n",
       "      <td>299</td>\n",
       "      <td>Harry Potter and the Chamber of Secrets (Harry...</td>\n",
       "      <td>480</td>\n",
       "      <td>4.29</td>\n",
       "    </tr>\n",
       "    <tr>\n",
       "      <th>...</th>\n",
       "      <td>...</td>\n",
       "      <td>...</td>\n",
       "      <td>...</td>\n",
       "      <td>...</td>\n",
       "    </tr>\n",
       "    <tr>\n",
       "      <th>995</th>\n",
       "      <td>221</td>\n",
       "      <td>Essential Tales and Poems</td>\n",
       "      <td>0</td>\n",
       "      <td>4.00</td>\n",
       "    </tr>\n",
       "    <tr>\n",
       "      <th>996</th>\n",
       "      <td>808</td>\n",
       "      <td>The Natural Way to Draw</td>\n",
       "      <td>0</td>\n",
       "      <td>3.00</td>\n",
       "    </tr>\n",
       "    <tr>\n",
       "      <th>997</th>\n",
       "      <td>191</td>\n",
       "      <td>Disney's Beauty and the Beast (A Little Golden...</td>\n",
       "      <td>0</td>\n",
       "      <td>4.00</td>\n",
       "    </tr>\n",
       "    <tr>\n",
       "      <th>998</th>\n",
       "      <td>83</td>\n",
       "      <td>Anne Rice's The Vampire Lestat: A Graphic Novel</td>\n",
       "      <td>0</td>\n",
       "      <td>3.67</td>\n",
       "    </tr>\n",
       "    <tr>\n",
       "      <th>999</th>\n",
       "      <td>672</td>\n",
       "      <td>The Cat in the Hat and Other Dr. Seuss Favorites</td>\n",
       "      <td>0</td>\n",
       "      <td>5.00</td>\n",
       "    </tr>\n",
       "  </tbody>\n",
       "</table>\n",
       "<p>1000 rows × 4 columns</p>\n",
       "</div>"
      ],
      "text/plain": [
       "     book_id                                              title  \\\n",
       "0        948                            Twilight (Twilight  #1)   \n",
       "1        750                The Hobbit  or There and Back Again   \n",
       "2        673                             The Catcher in the Rye   \n",
       "3        302  Harry Potter and the Prisoner of Azkaban (Harr...   \n",
       "4        299  Harry Potter and the Chamber of Secrets (Harry...   \n",
       "..       ...                                                ...   \n",
       "995      221                          Essential Tales and Poems   \n",
       "996      808                            The Natural Way to Draw   \n",
       "997      191  Disney's Beauty and the Beast (A Little Golden...   \n",
       "998       83    Anne Rice's The Vampire Lestat: A Graphic Novel   \n",
       "999      672   The Cat in the Hat and Other Dr. Seuss Favorites   \n",
       "\n",
       "     review_quantity  avg_rating  \n",
       "0               1120        3.66  \n",
       "1                528        4.13  \n",
       "2                516        3.83  \n",
       "3                492        4.41  \n",
       "4                480        4.29  \n",
       "..               ...         ...  \n",
       "995                0        4.00  \n",
       "996                0        3.00  \n",
       "997                0        4.00  \n",
       "998                0        3.67  \n",
       "999                0        5.00  \n",
       "\n",
       "[1000 rows x 4 columns]"
      ]
     },
     "execution_count": 7,
     "metadata": {},
     "output_type": "execute_result"
    }
   ],
   "source": [
    "query_2 = '''SELECT b.book_id,\n",
    "                    b.title,\n",
    "                    COUNT(rew.review_id) AS review_quantity,\n",
    "                    ROUND(AVG(rat.rating), 2) AS avg_rating\n",
    "             FROM books AS b\n",
    "             LEFT OUTER JOIN ratings AS rat ON b.book_id = rat.book_id\n",
    "             LEFT OUTER JOIN reviews AS rew ON b.book_id = rew.book_id\n",
    "             GROUP BY b.book_id\n",
    "             ORDER BY review_quantity DESC;\n",
    "          '''\n",
    "\n",
    "print(' ')\n",
    "print('Количество обзоров и средняя оценка для каждой книги:')\n",
    "table_analysis(query_2)"
   ]
  },
  {
   "cell_type": "markdown",
   "id": "3f184d1d",
   "metadata": {},
   "source": [
    "### Издательство, выпустившее наибольшее число книг толще 50 страниц."
   ]
  },
  {
   "cell_type": "markdown",
   "id": "fc011144",
   "metadata": {},
   "source": [
    "Определим издательство, которое выпустило наибольшее число книг толще 50 страниц."
   ]
  },
  {
   "cell_type": "code",
   "execution_count": 8,
   "id": "88160a34",
   "metadata": {},
   "outputs": [
    {
     "name": "stdout",
     "output_type": "stream",
     "text": [
      " \n",
      "Издательство, которое выпустило наибольшее число книг толще 50 страниц:\n"
     ]
    },
    {
     "data": {
      "text/html": [
       "<div>\n",
       "<style scoped>\n",
       "    .dataframe tbody tr th:only-of-type {\n",
       "        vertical-align: middle;\n",
       "    }\n",
       "\n",
       "    .dataframe tbody tr th {\n",
       "        vertical-align: top;\n",
       "    }\n",
       "\n",
       "    .dataframe thead th {\n",
       "        text-align: right;\n",
       "    }\n",
       "</style>\n",
       "<table border=\"1\" class=\"dataframe\">\n",
       "  <thead>\n",
       "    <tr style=\"text-align: right;\">\n",
       "      <th></th>\n",
       "      <th>publisher_id</th>\n",
       "      <th>publisher</th>\n",
       "      <th>books_quantity</th>\n",
       "    </tr>\n",
       "  </thead>\n",
       "  <tbody>\n",
       "    <tr>\n",
       "      <th>0</th>\n",
       "      <td>212</td>\n",
       "      <td>Penguin Books</td>\n",
       "      <td>42</td>\n",
       "    </tr>\n",
       "  </tbody>\n",
       "</table>\n",
       "</div>"
      ],
      "text/plain": [
       "   publisher_id      publisher  books_quantity\n",
       "0           212  Penguin Books              42"
      ]
     },
     "execution_count": 8,
     "metadata": {},
     "output_type": "execute_result"
    }
   ],
   "source": [
    "query_3 = '''SELECT p.publisher_id,\n",
    "                    p.publisher,\n",
    "                    COUNT(b.book_id) AS books_quantity\n",
    "             FROM publishers AS p\n",
    "             LEFT OUTER JOIN books AS b ON p.publisher_id = b.publisher_id\n",
    "             WHERE b.num_pages > 50\n",
    "             GROUP BY  p.publisher_id\n",
    "             ORDER BY books_quantity DESC\n",
    "             LIMIT 1;\n",
    "          '''\n",
    "\n",
    "print(' ')\n",
    "print('Издательство, которое выпустило наибольшее число книг толще 50 страниц:')\n",
    "table_analysis(query_3)"
   ]
  },
  {
   "cell_type": "markdown",
   "id": "dd6caf3a",
   "metadata": {},
   "source": [
    "### Автор с самой высокой средней оценкой книг, имеющих 50 и более оценок."
   ]
  },
  {
   "cell_type": "markdown",
   "id": "7d9ddd45",
   "metadata": {},
   "source": [
    "Определим автора с самой высокой средней оценкой книг. Будем учитывать только книги с 50 и более оценками."
   ]
  },
  {
   "cell_type": "code",
   "execution_count": 9,
   "id": "508389fe",
   "metadata": {},
   "outputs": [
    {
     "name": "stdout",
     "output_type": "stream",
     "text": [
      " \n",
      "Автор с самой высокой средней оценкой книг (учитывая только книги с 50 и более оценками):\n"
     ]
    },
    {
     "data": {
      "text/html": [
       "<div>\n",
       "<style scoped>\n",
       "    .dataframe tbody tr th:only-of-type {\n",
       "        vertical-align: middle;\n",
       "    }\n",
       "\n",
       "    .dataframe tbody tr th {\n",
       "        vertical-align: top;\n",
       "    }\n",
       "\n",
       "    .dataframe thead th {\n",
       "        text-align: right;\n",
       "    }\n",
       "</style>\n",
       "<table border=\"1\" class=\"dataframe\">\n",
       "  <thead>\n",
       "    <tr style=\"text-align: right;\">\n",
       "      <th></th>\n",
       "      <th>author_id</th>\n",
       "      <th>author</th>\n",
       "      <th>avg_rating</th>\n",
       "    </tr>\n",
       "  </thead>\n",
       "  <tbody>\n",
       "    <tr>\n",
       "      <th>0</th>\n",
       "      <td>236</td>\n",
       "      <td>J.K. Rowling/Mary GrandPré</td>\n",
       "      <td>4.29</td>\n",
       "    </tr>\n",
       "  </tbody>\n",
       "</table>\n",
       "</div>"
      ],
      "text/plain": [
       "   author_id                      author  avg_rating\n",
       "0        236  J.K. Rowling/Mary GrandPré        4.29"
      ]
     },
     "execution_count": 9,
     "metadata": {},
     "output_type": "execute_result"
    }
   ],
   "source": [
    "query_4 = '''SELECT a.author_id,\n",
    "                    a.author,\n",
    "                    ROUND(AVG(r.rating), 2) AS avg_rating\n",
    "             FROM authors AS a\n",
    "             LEFT OUTER JOIN books AS b ON a.author_id = b.author_id\n",
    "             INNER JOIN ratings AS r ON b.book_id=r.book_id\n",
    "             WHERE b.book_id IN (SELECT b.book_id\n",
    "                                 FROM books AS b\n",
    "                                 LEFT OUTER JOIN ratings AS r ON b.book_id = r.book_id\n",
    "                                 GROUP BY b.book_id\n",
    "                                 HAVING COUNT(r.rating_id) >= 50)\n",
    "             GROUP BY a.author_id\n",
    "             ORDER BY avg_rating DESC\n",
    "             LIMIT 1;\n",
    "          '''\n",
    "\n",
    "print(' ')\n",
    "print('Автор с самой высокой средней оценкой книг (учитывая только книги с 50 и более оценками):')\n",
    "table_analysis(query_4)"
   ]
  },
  {
   "cell_type": "markdown",
   "id": "60367914",
   "metadata": {},
   "source": [
    "### Среднее количество обзоров от пользователей, которые поставили больше 50 оценок."
   ]
  },
  {
   "cell_type": "markdown",
   "id": "992a96da",
   "metadata": {},
   "source": [
    "Посчитаем среднее количество обзоров от пользователей, которые поставили больше 50 оценок."
   ]
  },
  {
   "cell_type": "code",
   "execution_count": 10,
   "id": "5eebd1fd",
   "metadata": {},
   "outputs": [
    {
     "name": "stdout",
     "output_type": "stream",
     "text": [
      " \n",
      "Cреднее количество обзоров от пользователей, которые поставили больше 50 оценок:\n"
     ]
    },
    {
     "data": {
      "text/html": [
       "<div>\n",
       "<style scoped>\n",
       "    .dataframe tbody tr th:only-of-type {\n",
       "        vertical-align: middle;\n",
       "    }\n",
       "\n",
       "    .dataframe tbody tr th {\n",
       "        vertical-align: top;\n",
       "    }\n",
       "\n",
       "    .dataframe thead th {\n",
       "        text-align: right;\n",
       "    }\n",
       "</style>\n",
       "<table border=\"1\" class=\"dataframe\">\n",
       "  <thead>\n",
       "    <tr style=\"text-align: right;\">\n",
       "      <th></th>\n",
       "      <th>avg_reviews_quantity</th>\n",
       "    </tr>\n",
       "  </thead>\n",
       "  <tbody>\n",
       "    <tr>\n",
       "      <th>0</th>\n",
       "      <td>24.33</td>\n",
       "    </tr>\n",
       "  </tbody>\n",
       "</table>\n",
       "</div>"
      ],
      "text/plain": [
       "   avg_reviews_quantity\n",
       "0                 24.33"
      ]
     },
     "execution_count": 10,
     "metadata": {},
     "output_type": "execute_result"
    }
   ],
   "source": [
    "query_5 = '''WITH\n",
    "\n",
    "             a AS (SELECT COUNT(review_id) AS reviews_count\n",
    "                   FROM reviews\n",
    "                   WHERE username IN (SELECT username\n",
    "                                      FROM ratings\n",
    "                                      GROUP BY username\n",
    "                                      HAVING COUNT(rating) > 50)\n",
    "                   GROUP BY username)\n",
    "      \n",
    "             SELECT ROUND(AVG(a.reviews_count), 2) AS avg_reviews_quantity\n",
    "             FROM a;\n",
    "          '''\n",
    "\n",
    "print(' ')\n",
    "print('Cреднее количество обзоров от пользователей, которые поставили больше 50 оценок:')\n",
    "table_analysis(query_5)"
   ]
  },
  {
   "cell_type": "markdown",
   "id": "9ec2aae7",
   "metadata": {},
   "source": [
    "## Вывод."
   ]
  },
  {
   "cell_type": "markdown",
   "id": "a9390ea0",
   "metadata": {},
   "source": [
    "Анализ данных таблиц показал следующее:\n",
    "\n",
    "* 1. После 1 января 2000 года вышло **`819 книг`**.  \n",
    "\n",
    "\n",
    "* 2. Для каждой книги было расчитано количество обзоров и средняя оценка.  \n",
    "Максимальное количество обзоров у книги: **`Twilight (Twilight #1) - 1120 обзоров, рейтинг - 3,66.`**  \n",
    "\n",
    "\n",
    "* 3. Издательство, которое выпустило наибольшее число книг толще 50 страниц - **`Penguin Books (42 книги)`**.  \n",
    "\n",
    "\n",
    "* 4. Автор с самой высокой средней оценкой книг (учитывая только книги с 50 и более оценками) - **`J.K. Rowling/Mary GrandPré, средняя оценка книг - 4,29.`**  \n",
    "\n",
    "\n",
    "* 5.  Cреднее количество обзоров от пользователей, которые поставили больше 50 оценок: **`24,33.`**"
   ]
  },
  {
   "cell_type": "markdown",
   "id": "f4d97432",
   "metadata": {},
   "source": [
    "_________________________"
   ]
  }
 ],
 "metadata": {
  "kernelspec": {
   "display_name": "Python 3 (ipykernel)",
   "language": "python",
   "name": "python3"
  },
  "language_info": {
   "codemirror_mode": {
    "name": "ipython",
    "version": 3
   },
   "file_extension": ".py",
   "mimetype": "text/x-python",
   "name": "python",
   "nbconvert_exporter": "python",
   "pygments_lexer": "ipython3",
   "version": "3.11.2"
  },
  "latex_envs": {
   "LaTeX_envs_menu_present": true,
   "autoclose": false,
   "autocomplete": true,
   "bibliofile": "biblio.bib",
   "cite_by": "apalike",
   "current_citInitial": 1,
   "eqLabelWithNumbers": true,
   "eqNumInitial": 1,
   "hotkeys": {
    "equation": "Ctrl-E",
    "itemize": "Ctrl-I"
   },
   "labels_anchors": false,
   "latex_user_defs": false,
   "report_style_numbering": false,
   "user_envs_cfg": false
  },
  "toc": {
   "base_numbering": 1,
   "nav_menu": {},
   "number_sections": true,
   "sideBar": true,
   "skip_h1_title": true,
   "title_cell": "Содержание",
   "title_sidebar": "Contents",
   "toc_cell": true,
   "toc_position": {
    "height": "calc(100% - 180px)",
    "left": "10px",
    "top": "150px",
    "width": "307.2px"
   },
   "toc_section_display": true,
   "toc_window_display": true
  },
  "varInspector": {
   "cols": {
    "lenName": 16,
    "lenType": 16,
    "lenVar": 40
   },
   "kernels_config": {
    "python": {
     "delete_cmd_postfix": "",
     "delete_cmd_prefix": "del ",
     "library": "var_list.py",
     "varRefreshCmd": "print(var_dic_list())"
    },
    "r": {
     "delete_cmd_postfix": ") ",
     "delete_cmd_prefix": "rm(",
     "library": "var_list.r",
     "varRefreshCmd": "cat(var_dic_list()) "
    }
   },
   "types_to_exclude": [
    "module",
    "function",
    "builtin_function_or_method",
    "instance",
    "_Feature"
   ],
   "window_display": false
  }
 },
 "nbformat": 4,
 "nbformat_minor": 5
}
